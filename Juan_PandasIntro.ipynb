{
  "nbformat": 4,
  "nbformat_minor": 0,
  "metadata": {
    "colab": {
      "name": "Juan PandasIntro.ipynb",
      "provenance": [],
      "collapsed_sections": [
        "2cGoqJAH9zP8"
      ]
    },
    "kernelspec": {
      "name": "python3",
      "display_name": "Python 3"
    }
  },
  "cells": [
    {
      "cell_type": "markdown",
      "metadata": {
        "id": "vJ3RTDmN6qnc"
      },
      "source": [
        "\n",
        "\n",
        "\n",
        "# Introduction into Pandas\n",
        "\n",
        "*   Pandas is Python's data analysis library\n",
        "*   'Pandas' is derived from \"panel data\", which can have multiple observations of multiple individuals — Wikipedia\n",
        "*   Used for analysing data tables (i.e. csv files)\n",
        "*   Applied for data cleaning, analysis and preprocessing\n",
        "*   Panda's API can be found here: https://pandas.pydata.org/pandas-docs/stable/reference/index.html \n",
        "*   Pandas is built on top of the NumPy package\n",
        "*   Data in pandas is often used to prepare data for statistical analysis in SciPy, plotting functions from Matplotlib, and machine learning algorithms in Scikit-learn.\n",
        "\n",
        "Now let's import the pandas library first (as well as numpy)\n"
      ]
    },
    {
      "cell_type": "code",
      "metadata": {
        "id": "C5P8o-uS9xCE"
      },
      "source": [
        "import pandas as pd\n",
        "import numpy as np"
      ],
      "execution_count": null,
      "outputs": []
    },
    {
      "cell_type": "markdown",
      "metadata": {
        "id": "v-Lrs3U6ggAh"
      },
      "source": [
        "## Input and Output\n",
        "\n",
        "\n",
        "Input:\n",
        "*   `pd.read_csv('path/to/folder')`\n",
        "*   `pd.read_excel('Excel_Sample.xlsx',sheetname='Sheet1')`\n",
        "*   `pd.read_html('http://url/...')`\n",
        "\n",
        "Output:\n",
        "* `df.to_csv('/path/to/CSV_Sample.csv')`\n",
        "* `df.to_excel('Excel_Sample.xlsx',sheet_name='Sheet1')`\n",
        " \n",
        "\n",
        "\n",
        "\n",
        "\n",
        "\n",
        "\n",
        "\n"
      ]
    },
    {
      "cell_type": "markdown",
      "metadata": {
        "id": "Mu0mue3J2U6J"
      },
      "source": [
        "# Assignment\n",
        "**PIMA Indian Diabetes dataset**\n",
        "\n",
        "This dataset is originally from the National Institute of Diabetes and Digestive and Kidney Diseases. All patients here are females at least 21 years old of Pima Indian heritage.\n",
        "The datasets consists of several medical predictor variables one target variable, Outcome that indicates whether a person developed diabetes or not. Predictor variables includes the number of pregnancies the patient has had, their BMI, insulin level, age, and so on. The outcome is whether a person has diabetes or not.\n",
        "\n",
        "*Acknowledgements*  \n",
        "Smith, J.W., Everhart, J.E., Dickson, W.C., Knowler, W.C., & Johannes, R.S. (1988). Using the ADAP learning algorithm to forecast the onset of diabetes mellitus. In Proceedings of the Symposium on Computer Applications and Medical Care (pp. 261--265). IEEE Computer Society Press.\n",
        "\n",
        "**Importing local files into Google Colab**  \n",
        "Run the cell below and then browse through your local file system and select the pima.csv file. "
      ]
    },
    {
      "cell_type": "code",
      "metadata": {
        "id": "_EimFhbsgmim",
        "colab": {
          "resources": {
            "http://localhost:8080/nbextensions/google.colab/files.js": {
              "data": "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",
              "ok": true,
              "headers": [
                [
                  "content-type",
                  "application/javascript"
                ]
              ],
              "status": 200,
              "status_text": "OK"
            }
          },
          "base_uri": "https://localhost:8080/",
          "height": 73
        },
        "outputId": "b1181852-2b8d-4e99-ea67-1a5b644844ab"
      },
      "source": [
        "from google.colab import files\n",
        "uploaded = files.upload()"
      ],
      "execution_count": null,
      "outputs": [
        {
          "output_type": "display_data",
          "data": {
            "text/html": [
              "\n",
              "     <input type=\"file\" id=\"files-d1404a66-b9ef-4e0e-850a-bec736d6baad\" name=\"files[]\" multiple disabled\n",
              "        style=\"border:none\" />\n",
              "     <output id=\"result-d1404a66-b9ef-4e0e-850a-bec736d6baad\">\n",
              "      Upload widget is only available when the cell has been executed in the\n",
              "      current browser session. Please rerun this cell to enable.\n",
              "      </output>\n",
              "      <script src=\"/nbextensions/google.colab/files.js\"></script> "
            ],
            "text/plain": [
              "<IPython.core.display.HTML object>"
            ]
          },
          "metadata": {
            "tags": []
          }
        },
        {
          "output_type": "stream",
          "text": [
            "Saving diabetes_mod.csv to diabetes_mod.csv\n"
          ],
          "name": "stdout"
        }
      ]
    },
    {
      "cell_type": "code",
      "metadata": {
        "id": "RMh6XkZphNuJ"
      },
      "source": [
        "pima = pd.read_csv(\"diabetes_mod.csv\")"
      ],
      "execution_count": null,
      "outputs": []
    },
    {
      "cell_type": "markdown",
      "metadata": {
        "id": "Z99kO_dW6UgQ"
      },
      "source": [
        "### 1. Inspect the head and tail of the dataset "
      ]
    },
    {
      "cell_type": "code",
      "metadata": {
        "id": "nfZWjRv4y0hn",
        "colab": {
          "base_uri": "https://localhost:8080/",
          "height": 206
        },
        "outputId": "c6578065-a6c7-4d26-d327-1b4f73076de2"
      },
      "source": [
        "pima.head()"
      ],
      "execution_count": null,
      "outputs": [
        {
          "output_type": "execute_result",
          "data": {
            "text/html": [
              "<div>\n",
              "<style scoped>\n",
              "    .dataframe tbody tr th:only-of-type {\n",
              "        vertical-align: middle;\n",
              "    }\n",
              "\n",
              "    .dataframe tbody tr th {\n",
              "        vertical-align: top;\n",
              "    }\n",
              "\n",
              "    .dataframe thead th {\n",
              "        text-align: right;\n",
              "    }\n",
              "</style>\n",
              "<table border=\"1\" class=\"dataframe\">\n",
              "  <thead>\n",
              "    <tr style=\"text-align: right;\">\n",
              "      <th></th>\n",
              "      <th>Pregnancies</th>\n",
              "      <th>Glucose</th>\n",
              "      <th>BloodPressure</th>\n",
              "      <th>SkinThickness</th>\n",
              "      <th>Insulin</th>\n",
              "      <th>BMI</th>\n",
              "      <th>DiabetesPedigreeFunction</th>\n",
              "      <th>Age</th>\n",
              "      <th>Outcome</th>\n",
              "    </tr>\n",
              "  </thead>\n",
              "  <tbody>\n",
              "    <tr>\n",
              "      <th>0</th>\n",
              "      <td>6</td>\n",
              "      <td>148</td>\n",
              "      <td>72.0</td>\n",
              "      <td>35</td>\n",
              "      <td>0</td>\n",
              "      <td>33.6</td>\n",
              "      <td>0.627</td>\n",
              "      <td>50</td>\n",
              "      <td>1</td>\n",
              "    </tr>\n",
              "    <tr>\n",
              "      <th>1</th>\n",
              "      <td>1</td>\n",
              "      <td>85</td>\n",
              "      <td>66.0</td>\n",
              "      <td>29</td>\n",
              "      <td>0</td>\n",
              "      <td>26.6</td>\n",
              "      <td>0.351</td>\n",
              "      <td>31</td>\n",
              "      <td>0</td>\n",
              "    </tr>\n",
              "    <tr>\n",
              "      <th>2</th>\n",
              "      <td>8</td>\n",
              "      <td>183</td>\n",
              "      <td>64.0</td>\n",
              "      <td>0</td>\n",
              "      <td>0</td>\n",
              "      <td>23.3</td>\n",
              "      <td>0.672</td>\n",
              "      <td>32</td>\n",
              "      <td>1</td>\n",
              "    </tr>\n",
              "    <tr>\n",
              "      <th>3</th>\n",
              "      <td>1</td>\n",
              "      <td>89</td>\n",
              "      <td>66.0</td>\n",
              "      <td>23</td>\n",
              "      <td>94</td>\n",
              "      <td>28.1</td>\n",
              "      <td>0.167</td>\n",
              "      <td>21</td>\n",
              "      <td>0</td>\n",
              "    </tr>\n",
              "    <tr>\n",
              "      <th>4</th>\n",
              "      <td>0</td>\n",
              "      <td>137</td>\n",
              "      <td>40.0</td>\n",
              "      <td>35</td>\n",
              "      <td>168</td>\n",
              "      <td>43.1</td>\n",
              "      <td>2.288</td>\n",
              "      <td>33</td>\n",
              "      <td>1</td>\n",
              "    </tr>\n",
              "  </tbody>\n",
              "</table>\n",
              "</div>"
            ],
            "text/plain": [
              "   Pregnancies  Glucose  BloodPressure  ... DiabetesPedigreeFunction Age  Outcome\n",
              "0            6      148           72.0  ...                    0.627  50        1\n",
              "1            1       85           66.0  ...                    0.351  31        0\n",
              "2            8      183           64.0  ...                    0.672  32        1\n",
              "3            1       89           66.0  ...                    0.167  21        0\n",
              "4            0      137           40.0  ...                    2.288  33        1\n",
              "\n",
              "[5 rows x 9 columns]"
            ]
          },
          "metadata": {
            "tags": []
          },
          "execution_count": 140
        }
      ]
    },
    {
      "cell_type": "code",
      "metadata": {
        "id": "vMKs-PnJh8cy",
        "colab": {
          "base_uri": "https://localhost:8080/",
          "height": 206
        },
        "outputId": "fafc3911-68d1-4352-a3c8-f27a8da9bf4c"
      },
      "source": [
        "pima.tail()"
      ],
      "execution_count": null,
      "outputs": [
        {
          "output_type": "execute_result",
          "data": {
            "text/html": [
              "<div>\n",
              "<style scoped>\n",
              "    .dataframe tbody tr th:only-of-type {\n",
              "        vertical-align: middle;\n",
              "    }\n",
              "\n",
              "    .dataframe tbody tr th {\n",
              "        vertical-align: top;\n",
              "    }\n",
              "\n",
              "    .dataframe thead th {\n",
              "        text-align: right;\n",
              "    }\n",
              "</style>\n",
              "<table border=\"1\" class=\"dataframe\">\n",
              "  <thead>\n",
              "    <tr style=\"text-align: right;\">\n",
              "      <th></th>\n",
              "      <th>Pregnancies</th>\n",
              "      <th>Glucose</th>\n",
              "      <th>BloodPressure</th>\n",
              "      <th>SkinThickness</th>\n",
              "      <th>Insulin</th>\n",
              "      <th>BMI</th>\n",
              "      <th>DiabetesPedigreeFunction</th>\n",
              "      <th>Age</th>\n",
              "      <th>Outcome</th>\n",
              "    </tr>\n",
              "  </thead>\n",
              "  <tbody>\n",
              "    <tr>\n",
              "      <th>763</th>\n",
              "      <td>10</td>\n",
              "      <td>101</td>\n",
              "      <td>76.0</td>\n",
              "      <td>48</td>\n",
              "      <td>180</td>\n",
              "      <td>32.9</td>\n",
              "      <td>0.171</td>\n",
              "      <td>63</td>\n",
              "      <td>0</td>\n",
              "    </tr>\n",
              "    <tr>\n",
              "      <th>764</th>\n",
              "      <td>2</td>\n",
              "      <td>122</td>\n",
              "      <td>70.0</td>\n",
              "      <td>27</td>\n",
              "      <td>0</td>\n",
              "      <td>36.8</td>\n",
              "      <td>0.340</td>\n",
              "      <td>27</td>\n",
              "      <td>0</td>\n",
              "    </tr>\n",
              "    <tr>\n",
              "      <th>765</th>\n",
              "      <td>5</td>\n",
              "      <td>121</td>\n",
              "      <td>72.0</td>\n",
              "      <td>23</td>\n",
              "      <td>112</td>\n",
              "      <td>26.2</td>\n",
              "      <td>0.245</td>\n",
              "      <td>30</td>\n",
              "      <td>0</td>\n",
              "    </tr>\n",
              "    <tr>\n",
              "      <th>766</th>\n",
              "      <td>1</td>\n",
              "      <td>126</td>\n",
              "      <td>60.0</td>\n",
              "      <td>0</td>\n",
              "      <td>0</td>\n",
              "      <td>30.1</td>\n",
              "      <td>0.349</td>\n",
              "      <td>47</td>\n",
              "      <td>1</td>\n",
              "    </tr>\n",
              "    <tr>\n",
              "      <th>767</th>\n",
              "      <td>1</td>\n",
              "      <td>93</td>\n",
              "      <td>70.0</td>\n",
              "      <td>31</td>\n",
              "      <td>0</td>\n",
              "      <td>30.4</td>\n",
              "      <td>0.315</td>\n",
              "      <td>23</td>\n",
              "      <td>0</td>\n",
              "    </tr>\n",
              "  </tbody>\n",
              "</table>\n",
              "</div>"
            ],
            "text/plain": [
              "     Pregnancies  Glucose  ...  Age Outcome\n",
              "763           10      101  ...   63       0\n",
              "764            2      122  ...   27       0\n",
              "765            5      121  ...   30       0\n",
              "766            1      126  ...   47       1\n",
              "767            1       93  ...   23       0\n",
              "\n",
              "[5 rows x 9 columns]"
            ]
          },
          "metadata": {
            "tags": []
          },
          "execution_count": 141
        }
      ]
    },
    {
      "cell_type": "markdown",
      "metadata": {
        "id": "wYe7oITq6kz-"
      },
      "source": [
        "### 2. How many rows does the dataset have?"
      ]
    },
    {
      "cell_type": "code",
      "metadata": {
        "id": "8emDZJN8ucGv",
        "colab": {
          "base_uri": "https://localhost:8080/"
        },
        "outputId": "3ea366e1-b774-47f4-d856-0f6a92447dc7"
      },
      "source": [
        "#Solution\n",
        "pima.shape[0]"
      ],
      "execution_count": null,
      "outputs": [
        {
          "output_type": "execute_result",
          "data": {
            "text/plain": [
              "768"
            ]
          },
          "metadata": {
            "tags": []
          },
          "execution_count": 142
        }
      ]
    },
    {
      "cell_type": "code",
      "metadata": {
        "colab": {
          "base_uri": "https://localhost:8080/"
        },
        "id": "4Z64XmSzOQS7",
        "outputId": "83ea216a-6827-4803-c086-2512954af75f"
      },
      "source": [
        "pima.Pregnancies.count()"
      ],
      "execution_count": null,
      "outputs": [
        {
          "output_type": "execute_result",
          "data": {
            "text/plain": [
              "768"
            ]
          },
          "metadata": {
            "tags": []
          },
          "execution_count": 143
        }
      ]
    },
    {
      "cell_type": "code",
      "metadata": {
        "colab": {
          "base_uri": "https://localhost:8080/"
        },
        "id": "TfYfgqyGgJLT",
        "outputId": "01882e2c-e5ae-4f2c-a953-505325996408"
      },
      "source": [
        "len(pima.index)"
      ],
      "execution_count": null,
      "outputs": [
        {
          "output_type": "execute_result",
          "data": {
            "text/plain": [
              "768"
            ]
          },
          "metadata": {
            "tags": []
          },
          "execution_count": 156
        }
      ]
    },
    {
      "cell_type": "markdown",
      "metadata": {
        "id": "-5-qSzK1AZy5"
      },
      "source": [
        "### 3. What was the highest number of pregnancies?"
      ]
    },
    {
      "cell_type": "code",
      "metadata": {
        "id": "StjuX1Hg6e8c",
        "colab": {
          "base_uri": "https://localhost:8080/"
        },
        "outputId": "2eabc9ad-1364-4bf0-87a7-04758fefd2de"
      },
      "source": [
        "#Solution\n",
        "pima['Pregnancies'].max()"
      ],
      "execution_count": null,
      "outputs": [
        {
          "output_type": "execute_result",
          "data": {
            "text/plain": [
              "17"
            ]
          },
          "metadata": {
            "tags": []
          },
          "execution_count": 157
        }
      ]
    },
    {
      "cell_type": "markdown",
      "metadata": {
        "id": "P9T2cmRoA3Y-"
      },
      "source": [
        "### 4. What was the BMI of the woman with the highest number of pregnancies?"
      ]
    },
    {
      "cell_type": "code",
      "metadata": {
        "id": "jOQxoh5FAvtb",
        "colab": {
          "base_uri": "https://localhost:8080/"
        },
        "outputId": "013e1022-6978-430b-8afa-86d7c3c58ab2"
      },
      "source": [
        "#Solution\n",
        "pima.BMI[pima['Pregnancies']==pima['Pregnancies'].max()]"
      ],
      "execution_count": null,
      "outputs": [
        {
          "output_type": "execute_result",
          "data": {
            "text/plain": [
              "159    40.9\n",
              "Name: BMI, dtype: float64"
            ]
          },
          "metadata": {
            "tags": []
          },
          "execution_count": 145
        }
      ]
    },
    {
      "cell_type": "code",
      "metadata": {
        "colab": {
          "base_uri": "https://localhost:8080/"
        },
        "id": "eFzvNQdsXixU",
        "outputId": "9f2c035b-a9e2-4bf7-ee83-17522795828c"
      },
      "source": [
        "pima['BMI'].loc[pima['Pregnancies'] == 17]"
      ],
      "execution_count": null,
      "outputs": [
        {
          "output_type": "execute_result",
          "data": {
            "text/plain": [
              "159    40.9\n",
              "Name: BMI, dtype: float64"
            ]
          },
          "metadata": {
            "tags": []
          },
          "execution_count": 146
        }
      ]
    },
    {
      "cell_type": "markdown",
      "metadata": {
        "id": "AmY2iOhhFEsZ"
      },
      "source": [
        "### 5. Add a column 'Age_group' to the dataframe. \n",
        "This column, should contain categorical values indicating the age groups\n",
        "'0-10','11-20','21-30','31-40','41-50', '51-60', '61-70', '71-80', '81-90', '91-100', '100+'   \n",
        "Hint: https://pandas.pydata.org/pandas-docs/stable/reference/api/pandas.cut.html                                    "
      ]
    },
    {
      "cell_type": "code",
      "metadata": {
        "id": "pDwojNJTBEw_",
        "colab": {
          "base_uri": "https://localhost:8080/"
        },
        "outputId": "b38e3fb8-220a-489a-d26b-bf7c602d9302"
      },
      "source": [
        "#Solution\n",
        "pima['Age_group'] = pd.cut(pima.Age, bins=[0, 10, 20, 30, 40, 50, 60,70,80,90,100,120],\n",
        "                                     labels=['0-10','11-20','21-30','31-40', '41-50', '51-60', '61-70', '71-80', \n",
        "                                            '81-90', '90-100', '100+'])\n",
        "pima['Age_group']"
      ],
      "execution_count": null,
      "outputs": [
        {
          "output_type": "execute_result",
          "data": {
            "text/plain": [
              "0      41-50\n",
              "1      31-40\n",
              "2      31-40\n",
              "3      21-30\n",
              "4      31-40\n",
              "       ...  \n",
              "763    61-70\n",
              "764    21-30\n",
              "765    21-30\n",
              "766    41-50\n",
              "767    21-30\n",
              "Name: Age_group, Length: 768, dtype: category\n",
              "Categories (11, object): ['0-10' < '11-20' < '21-30' < '31-40' ... '71-80' < '81-90' < '90-100' < '100+']"
            ]
          },
          "metadata": {
            "tags": []
          },
          "execution_count": 147
        }
      ]
    },
    {
      "cell_type": "code",
      "metadata": {
        "id": "YZywdFX_jR9S"
      },
      "source": [
        "pima['Age_group'] = pd.cut(pima.Age, bins=[0, 10, 20, 30, 40, 50, 60,70,80,90,100,120],\n",
        "                                     labels=['0-10','11-20','21-30','31-40', '41-50', '51-60', '61-70', '71-80', \n",
        "                                            '81-90', '90-100', '100+'])"
      ],
      "execution_count": null,
      "outputs": []
    },
    {
      "cell_type": "code",
      "metadata": {
        "colab": {
          "base_uri": "https://localhost:8080/"
        },
        "id": "x5L7PqVbijW5",
        "outputId": "fd7c1ee2-1ba2-430e-f996-8a64ac384de4"
      },
      "source": [
        "pima['Age_group'].value_counts()"
      ],
      "execution_count": null,
      "outputs": [
        {
          "output_type": "execute_result",
          "data": {
            "text/plain": [
              "21-30     417\n",
              "31-40     157\n",
              "41-50     113\n",
              "51-60      54\n",
              "61-70      25\n",
              "81-90       1\n",
              "71-80       1\n",
              "100+        0\n",
              "90-100      0\n",
              "11-20       0\n",
              "0-10        0\n",
              "Name: Age_group, dtype: int64"
            ]
          },
          "metadata": {
            "tags": []
          },
          "execution_count": 158
        }
      ]
    },
    {
      "cell_type": "code",
      "metadata": {
        "colab": {
          "base_uri": "https://localhost:8080/"
        },
        "id": "ek8DhbuDfN_D",
        "outputId": "7f0b653b-b96d-41a6-eec2-a374afffb8ff"
      },
      "source": [
        "pd.cut(pima.Age, bins=[10, 20, 30, 40, 50, 60,70,80,90,100],\n",
        "                                     labels=['11-20','21-30','31-40', '41-50', '51-60', '61-70', '71-80', \n",
        "                                            '81-90', '90-100']).value_counts()"
      ],
      "execution_count": null,
      "outputs": [
        {
          "output_type": "execute_result",
          "data": {
            "text/plain": [
              "21-30     417\n",
              "31-40     157\n",
              "41-50     113\n",
              "51-60      54\n",
              "61-70      25\n",
              "81-90       1\n",
              "71-80       1\n",
              "90-100      0\n",
              "11-20       0\n",
              "Name: Age, dtype: int64"
            ]
          },
          "metadata": {
            "tags": []
          },
          "execution_count": 159
        }
      ]
    },
    {
      "cell_type": "markdown",
      "metadata": {
        "id": "Nkl_QGSDHBtL"
      },
      "source": [
        "### 6. How many women are in each Age_group?"
      ]
    },
    {
      "cell_type": "code",
      "metadata": {
        "id": "geby6BsvHCBq",
        "colab": {
          "base_uri": "https://localhost:8080/"
        },
        "outputId": "6e72825b-65ab-4a0f-db49-f95f572d2027"
      },
      "source": [
        "#Solution\n",
        "pima['Age_group'].value_counts(sort=False)"
      ],
      "execution_count": null,
      "outputs": [
        {
          "output_type": "execute_result",
          "data": {
            "text/plain": [
              "0-10        0\n",
              "11-20       0\n",
              "21-30     417\n",
              "31-40     157\n",
              "41-50     113\n",
              "51-60      54\n",
              "61-70      25\n",
              "71-80       1\n",
              "81-90       1\n",
              "90-100      0\n",
              "100+        0\n",
              "Name: Age_group, dtype: int64"
            ]
          },
          "metadata": {
            "tags": []
          },
          "execution_count": 160
        }
      ]
    },
    {
      "cell_type": "code",
      "metadata": {
        "id": "WjGNmdrbEl8u",
        "colab": {
          "base_uri": "https://localhost:8080/"
        },
        "outputId": "af3afd04-704b-4451-8aa7-03cad6473942"
      },
      "source": [
        "by_agegroup = pima.groupby('Age_group')\n",
        "by_agegroup"
      ],
      "execution_count": null,
      "outputs": [
        {
          "output_type": "execute_result",
          "data": {
            "text/plain": [
              "<pandas.core.groupby.generic.DataFrameGroupBy object at 0x7f5180db1e50>"
            ]
          },
          "metadata": {
            "tags": []
          },
          "execution_count": 100
        }
      ]
    },
    {
      "cell_type": "markdown",
      "metadata": {
        "id": "5p-r_dV_HXzj"
      },
      "source": [
        "### 7. Display the mean BloodPressure in each Age_group. \n",
        "Is it descending or ascending with age?"
      ]
    },
    {
      "cell_type": "code",
      "metadata": {
        "id": "OEGYiTjzGhan",
        "colab": {
          "base_uri": "https://localhost:8080/"
        },
        "outputId": "d1e4e61b-e623-4911-e5ee-42b71886ab75"
      },
      "source": [
        "#Solution\n",
        "by_agegroup['BloodPressure'].mean()"
      ],
      "execution_count": null,
      "outputs": [
        {
          "output_type": "execute_result",
          "data": {
            "text/plain": [
              "Age_group\n",
              "0-10            NaN\n",
              "11-20           NaN\n",
              "21-30     65.638554\n",
              "31-40     70.724359\n",
              "41-50     75.455357\n",
              "51-60     80.055556\n",
              "61-70     78.080000\n",
              "71-80      0.000000\n",
              "81-90     74.000000\n",
              "90-100          NaN\n",
              "100+            NaN\n",
              "Name: BloodPressure, dtype: float64"
            ]
          },
          "metadata": {
            "tags": []
          },
          "execution_count": 101
        }
      ]
    },
    {
      "cell_type": "markdown",
      "metadata": {
        "id": "3MNHmtLtIEY4"
      },
      "source": [
        "### 8. How many women have diabetes?"
      ]
    },
    {
      "cell_type": "code",
      "metadata": {
        "id": "3qD7B5QnG0JN",
        "colab": {
          "base_uri": "https://localhost:8080/"
        },
        "outputId": "39f6ddaf-77e4-4d1a-c9e0-dca15e8fc657"
      },
      "source": [
        "#Solution\n",
        "pima['Outcome'].value_counts()"
      ],
      "execution_count": null,
      "outputs": [
        {
          "output_type": "execute_result",
          "data": {
            "text/plain": [
              "0    500\n",
              "1    268\n",
              "Name: Outcome, dtype: int64"
            ]
          },
          "metadata": {
            "tags": []
          },
          "execution_count": 102
        }
      ]
    },
    {
      "cell_type": "code",
      "metadata": {
        "colab": {
          "base_uri": "https://localhost:8080/"
        },
        "id": "_CGW7DeXQIJ_",
        "outputId": "ff70de75-43de-49da-a05c-cb9540719d2b"
      },
      "source": [
        "pima.Outcome[pima['Outcome']==1].sum()"
      ],
      "execution_count": null,
      "outputs": [
        {
          "output_type": "execute_result",
          "data": {
            "text/plain": [
              "268"
            ]
          },
          "metadata": {
            "tags": []
          },
          "execution_count": 133
        }
      ]
    },
    {
      "cell_type": "code",
      "metadata": {
        "colab": {
          "base_uri": "https://localhost:8080/"
        },
        "id": "XNoHPl9ek9Ul",
        "outputId": "130110be-4a93-45f5-fb0c-009ff5c909be"
      },
      "source": [
        "pima.Outcome.sum()"
      ],
      "execution_count": null,
      "outputs": [
        {
          "output_type": "execute_result",
          "data": {
            "text/plain": [
              "268"
            ]
          },
          "metadata": {
            "tags": []
          },
          "execution_count": 162
        }
      ]
    },
    {
      "cell_type": "code",
      "metadata": {
        "colab": {
          "base_uri": "https://localhost:8080/"
        },
        "id": "JboiZGafQWKt",
        "outputId": "8b8bccf7-e063-42e6-869e-a9eb00ce5a8c"
      },
      "source": [
        "pima.Outcome[pima['Outcome']==1].count()"
      ],
      "execution_count": null,
      "outputs": [
        {
          "output_type": "execute_result",
          "data": {
            "text/plain": [
              "268"
            ]
          },
          "metadata": {
            "tags": []
          },
          "execution_count": 134
        }
      ]
    },
    {
      "cell_type": "markdown",
      "metadata": {
        "id": "hcQKfMuKJ2V7"
      },
      "source": [
        "### 9. What is the mean BMI in diabetic and non-diabetic women?"
      ]
    },
    {
      "cell_type": "code",
      "metadata": {
        "id": "dhpnYESpIO6C",
        "colab": {
          "base_uri": "https://localhost:8080/"
        },
        "outputId": "cc034e78-a4fb-42b2-f1ef-5240518b80f2"
      },
      "source": [
        "#Solution\n",
        "pima.groupby(['Outcome'])['BMI'].mean()"
      ],
      "execution_count": null,
      "outputs": [
        {
          "output_type": "execute_result",
          "data": {
            "text/plain": [
              "Outcome\n",
              "0    30.304200\n",
              "1    35.142537\n",
              "Name: BMI, dtype: float64"
            ]
          },
          "metadata": {
            "tags": []
          },
          "execution_count": 103
        }
      ]
    },
    {
      "cell_type": "code",
      "metadata": {
        "colab": {
          "base_uri": "https://localhost:8080/"
        },
        "id": "M2roLdxPl6_e",
        "outputId": "a79be663-9f57-4aa6-da2f-a6a6116d9f4c"
      },
      "source": [
        "out_group = pima.groupby(['Outcome'])\n",
        "out_group['BMI'].mean()"
      ],
      "execution_count": null,
      "outputs": [
        {
          "output_type": "execute_result",
          "data": {
            "text/plain": [
              "Outcome\n",
              "0    30.304200\n",
              "1    35.142537\n",
              "Name: BMI, dtype: float64"
            ]
          },
          "metadata": {
            "tags": []
          },
          "execution_count": 165
        }
      ]
    },
    {
      "cell_type": "markdown",
      "metadata": {
        "id": "evWEfu6cKmkP"
      },
      "source": [
        "### 10. Display the summary statistics of the variable 'BloodPressure'?"
      ]
    },
    {
      "cell_type": "code",
      "metadata": {
        "id": "gY-ZEs9uJejY",
        "colab": {
          "base_uri": "https://localhost:8080/"
        },
        "outputId": "3ff009da-a8ad-400c-8f1a-0bb0a0e58641"
      },
      "source": [
        "#Solution\n",
        "pima['BloodPressure'].describe()"
      ],
      "execution_count": null,
      "outputs": [
        {
          "output_type": "execute_result",
          "data": {
            "text/plain": [
              "count    764.000000\n",
              "mean      69.467277\n",
              "std       18.746854\n",
              "min        0.000000\n",
              "25%       64.000000\n",
              "50%       72.000000\n",
              "75%       80.000000\n",
              "max      122.000000\n",
              "Name: BloodPressure, dtype: float64"
            ]
          },
          "metadata": {
            "tags": []
          },
          "execution_count": 104
        }
      ]
    },
    {
      "cell_type": "markdown",
      "metadata": {
        "id": "_rUM3nMpLfe8"
      },
      "source": [
        "### 11. Display a contingency table between age_group and outcome"
      ]
    },
    {
      "cell_type": "code",
      "metadata": {
        "id": "RCibPEOiKj8o",
        "colab": {
          "base_uri": "https://localhost:8080/",
          "height": 300
        },
        "outputId": "d93812f1-4780-4935-e767-e0dd5e7cc384"
      },
      "source": [
        "pd.crosstab(pima.Age_group, pima.Outcome)"
      ],
      "execution_count": null,
      "outputs": [
        {
          "output_type": "execute_result",
          "data": {
            "text/html": [
              "<div>\n",
              "<style scoped>\n",
              "    .dataframe tbody tr th:only-of-type {\n",
              "        vertical-align: middle;\n",
              "    }\n",
              "\n",
              "    .dataframe tbody tr th {\n",
              "        vertical-align: top;\n",
              "    }\n",
              "\n",
              "    .dataframe thead th {\n",
              "        text-align: right;\n",
              "    }\n",
              "</style>\n",
              "<table border=\"1\" class=\"dataframe\">\n",
              "  <thead>\n",
              "    <tr style=\"text-align: right;\">\n",
              "      <th>Outcome</th>\n",
              "      <th>0</th>\n",
              "      <th>1</th>\n",
              "    </tr>\n",
              "    <tr>\n",
              "      <th>Age_group</th>\n",
              "      <th></th>\n",
              "      <th></th>\n",
              "    </tr>\n",
              "  </thead>\n",
              "  <tbody>\n",
              "    <tr>\n",
              "      <th>21-30</th>\n",
              "      <td>327</td>\n",
              "      <td>90</td>\n",
              "    </tr>\n",
              "    <tr>\n",
              "      <th>31-40</th>\n",
              "      <td>81</td>\n",
              "      <td>76</td>\n",
              "    </tr>\n",
              "    <tr>\n",
              "      <th>41-50</th>\n",
              "      <td>49</td>\n",
              "      <td>64</td>\n",
              "    </tr>\n",
              "    <tr>\n",
              "      <th>51-60</th>\n",
              "      <td>23</td>\n",
              "      <td>31</td>\n",
              "    </tr>\n",
              "    <tr>\n",
              "      <th>61-70</th>\n",
              "      <td>18</td>\n",
              "      <td>7</td>\n",
              "    </tr>\n",
              "    <tr>\n",
              "      <th>71-80</th>\n",
              "      <td>1</td>\n",
              "      <td>0</td>\n",
              "    </tr>\n",
              "    <tr>\n",
              "      <th>81-90</th>\n",
              "      <td>1</td>\n",
              "      <td>0</td>\n",
              "    </tr>\n",
              "  </tbody>\n",
              "</table>\n",
              "</div>"
            ],
            "text/plain": [
              "Outcome      0   1\n",
              "Age_group         \n",
              "21-30      327  90\n",
              "31-40       81  76\n",
              "41-50       49  64\n",
              "51-60       23  31\n",
              "61-70       18   7\n",
              "71-80        1   0\n",
              "81-90        1   0"
            ]
          },
          "metadata": {
            "tags": []
          },
          "execution_count": 105
        }
      ]
    },
    {
      "cell_type": "code",
      "metadata": {
        "colab": {
          "base_uri": "https://localhost:8080/",
          "height": 300
        },
        "id": "8MzI9NDPNiT4",
        "outputId": "4e00a090-c92b-426f-e0ed-5ef55fdc96f4"
      },
      "source": [
        "ct = pd.crosstab(pima.Age_group, pima.Outcome)\n",
        "ct = ct.assign(percent = round(ct.iloc[:,1] / (ct.iloc[:,0] + ct.iloc[:,1]),2)  )\n",
        "ct"
      ],
      "execution_count": null,
      "outputs": [
        {
          "output_type": "execute_result",
          "data": {
            "text/html": [
              "<div>\n",
              "<style scoped>\n",
              "    .dataframe tbody tr th:only-of-type {\n",
              "        vertical-align: middle;\n",
              "    }\n",
              "\n",
              "    .dataframe tbody tr th {\n",
              "        vertical-align: top;\n",
              "    }\n",
              "\n",
              "    .dataframe thead th {\n",
              "        text-align: right;\n",
              "    }\n",
              "</style>\n",
              "<table border=\"1\" class=\"dataframe\">\n",
              "  <thead>\n",
              "    <tr style=\"text-align: right;\">\n",
              "      <th>Outcome</th>\n",
              "      <th>0</th>\n",
              "      <th>1</th>\n",
              "      <th>percent</th>\n",
              "    </tr>\n",
              "    <tr>\n",
              "      <th>Age_group</th>\n",
              "      <th></th>\n",
              "      <th></th>\n",
              "      <th></th>\n",
              "    </tr>\n",
              "  </thead>\n",
              "  <tbody>\n",
              "    <tr>\n",
              "      <th>21-30</th>\n",
              "      <td>327</td>\n",
              "      <td>90</td>\n",
              "      <td>0.22</td>\n",
              "    </tr>\n",
              "    <tr>\n",
              "      <th>31-40</th>\n",
              "      <td>81</td>\n",
              "      <td>76</td>\n",
              "      <td>0.48</td>\n",
              "    </tr>\n",
              "    <tr>\n",
              "      <th>41-50</th>\n",
              "      <td>49</td>\n",
              "      <td>64</td>\n",
              "      <td>0.57</td>\n",
              "    </tr>\n",
              "    <tr>\n",
              "      <th>51-60</th>\n",
              "      <td>23</td>\n",
              "      <td>31</td>\n",
              "      <td>0.57</td>\n",
              "    </tr>\n",
              "    <tr>\n",
              "      <th>61-70</th>\n",
              "      <td>18</td>\n",
              "      <td>7</td>\n",
              "      <td>0.28</td>\n",
              "    </tr>\n",
              "    <tr>\n",
              "      <th>71-80</th>\n",
              "      <td>1</td>\n",
              "      <td>0</td>\n",
              "      <td>0.00</td>\n",
              "    </tr>\n",
              "    <tr>\n",
              "      <th>81-90</th>\n",
              "      <td>1</td>\n",
              "      <td>0</td>\n",
              "      <td>0.00</td>\n",
              "    </tr>\n",
              "  </tbody>\n",
              "</table>\n",
              "</div>"
            ],
            "text/plain": [
              "Outcome      0   1  percent\n",
              "Age_group                  \n",
              "21-30      327  90     0.22\n",
              "31-40       81  76     0.48\n",
              "41-50       49  64     0.57\n",
              "51-60       23  31     0.57\n",
              "61-70       18   7     0.28\n",
              "71-80        1   0     0.00\n",
              "81-90        1   0     0.00"
            ]
          },
          "metadata": {
            "tags": []
          },
          "execution_count": 166
        }
      ]
    },
    {
      "cell_type": "markdown",
      "metadata": {
        "id": "fZEmk3JARIXj"
      },
      "source": [
        "### 12. Can you find out in the pandas crosstab documentation, how to display the contingency table as percentage relative to all women in the dataset? Alternatively, just google :-) "
      ]
    },
    {
      "cell_type": "code",
      "metadata": {
        "id": "TQ3p8krkLqrz",
        "colab": {
          "base_uri": "https://localhost:8080/",
          "height": 300
        },
        "outputId": "d000970d-8d94-4b48-f154-7d1574e11047"
      },
      "source": [
        "#Solution\n",
        "pd.crosstab(pima.Age_group, pima.Outcome, normalize='all') #Normalizes over each row"
      ],
      "execution_count": null,
      "outputs": [
        {
          "output_type": "execute_result",
          "data": {
            "text/html": [
              "<div>\n",
              "<style scoped>\n",
              "    .dataframe tbody tr th:only-of-type {\n",
              "        vertical-align: middle;\n",
              "    }\n",
              "\n",
              "    .dataframe tbody tr th {\n",
              "        vertical-align: top;\n",
              "    }\n",
              "\n",
              "    .dataframe thead th {\n",
              "        text-align: right;\n",
              "    }\n",
              "</style>\n",
              "<table border=\"1\" class=\"dataframe\">\n",
              "  <thead>\n",
              "    <tr style=\"text-align: right;\">\n",
              "      <th>Outcome</th>\n",
              "      <th>0</th>\n",
              "      <th>1</th>\n",
              "    </tr>\n",
              "    <tr>\n",
              "      <th>Age_group</th>\n",
              "      <th></th>\n",
              "      <th></th>\n",
              "    </tr>\n",
              "  </thead>\n",
              "  <tbody>\n",
              "    <tr>\n",
              "      <th>21-30</th>\n",
              "      <td>0.425781</td>\n",
              "      <td>0.117188</td>\n",
              "    </tr>\n",
              "    <tr>\n",
              "      <th>31-40</th>\n",
              "      <td>0.105469</td>\n",
              "      <td>0.098958</td>\n",
              "    </tr>\n",
              "    <tr>\n",
              "      <th>41-50</th>\n",
              "      <td>0.063802</td>\n",
              "      <td>0.083333</td>\n",
              "    </tr>\n",
              "    <tr>\n",
              "      <th>51-60</th>\n",
              "      <td>0.029948</td>\n",
              "      <td>0.040365</td>\n",
              "    </tr>\n",
              "    <tr>\n",
              "      <th>61-70</th>\n",
              "      <td>0.023438</td>\n",
              "      <td>0.009115</td>\n",
              "    </tr>\n",
              "    <tr>\n",
              "      <th>71-80</th>\n",
              "      <td>0.001302</td>\n",
              "      <td>0.000000</td>\n",
              "    </tr>\n",
              "    <tr>\n",
              "      <th>81-90</th>\n",
              "      <td>0.001302</td>\n",
              "      <td>0.000000</td>\n",
              "    </tr>\n",
              "  </tbody>\n",
              "</table>\n",
              "</div>"
            ],
            "text/plain": [
              "Outcome           0         1\n",
              "Age_group                    \n",
              "21-30      0.425781  0.117188\n",
              "31-40      0.105469  0.098958\n",
              "41-50      0.063802  0.083333\n",
              "51-60      0.029948  0.040365\n",
              "61-70      0.023438  0.009115\n",
              "71-80      0.001302  0.000000\n",
              "81-90      0.001302  0.000000"
            ]
          },
          "metadata": {
            "tags": []
          },
          "execution_count": 167
        }
      ]
    },
    {
      "cell_type": "markdown",
      "metadata": {
        "id": "hzM8F49aSrEs"
      },
      "source": [
        "**Missing Data**  \n",
        "### 13. Check if there are missing values in the dataframe columns."
      ]
    },
    {
      "cell_type": "code",
      "metadata": {
        "id": "_SoJexSbQsT6",
        "colab": {
          "base_uri": "https://localhost:8080/"
        },
        "outputId": "cd52e510-3d65-4742-ae07-92513905450c"
      },
      "source": [
        "#Solution\n",
        "pima.isnull().sum()"
      ],
      "execution_count": null,
      "outputs": [
        {
          "output_type": "execute_result",
          "data": {
            "text/plain": [
              "Pregnancies                  0\n",
              "Glucose                      0\n",
              "BloodPressure                4\n",
              "SkinThickness               32\n",
              "Insulin                     35\n",
              "BMI                          0\n",
              "DiabetesPedigreeFunction     0\n",
              "Age                          0\n",
              "Outcome                      0\n",
              "Age_group                    0\n",
              "dtype: int64"
            ]
          },
          "metadata": {
            "tags": []
          },
          "execution_count": 107
        }
      ]
    },
    {
      "cell_type": "code",
      "metadata": {
        "id": "qKQMO8GXdBUX",
        "colab": {
          "base_uri": "https://localhost:8080/"
        },
        "outputId": "c6f92fb2-af15-47c6-df86-e7d9acbf4aa2"
      },
      "source": [
        "pima.isna().sum()"
      ],
      "execution_count": null,
      "outputs": [
        {
          "output_type": "execute_result",
          "data": {
            "text/plain": [
              "Pregnancies                  0\n",
              "Glucose                      0\n",
              "BloodPressure                4\n",
              "SkinThickness               32\n",
              "Insulin                     35\n",
              "BMI                          0\n",
              "DiabetesPedigreeFunction     0\n",
              "Age                          0\n",
              "Outcome                      0\n",
              "Age_group                    0\n",
              "dtype: int64"
            ]
          },
          "metadata": {
            "tags": []
          },
          "execution_count": 168
        }
      ]
    },
    {
      "cell_type": "markdown",
      "metadata": {
        "id": "ONSDIzl2T5Ah"
      },
      "source": [
        "### 14. Check the unique values \n",
        "in the columns 'SkinThickness', 'Insulin', and 'BloodPressure'. Looking at these outputs, do you think the number of missing values which you obtained in the cell above is correct?"
      ]
    },
    {
      "cell_type": "code",
      "metadata": {
        "id": "eo7FP92aSAn1",
        "colab": {
          "base_uri": "https://localhost:8080/"
        },
        "outputId": "6491ce91-ed95-49ab-fff7-76a447d763a5"
      },
      "source": [
        "#Solution\n",
        "pima['SkinThickness'].unique()\n",
        "#contains 0, 'not available' and nan which are all missing values"
      ],
      "execution_count": null,
      "outputs": [
        {
          "output_type": "execute_result",
          "data": {
            "text/plain": [
              "array(['35', '29', '0', '23', '32', '45', nan, '19', '47', '38', '30',\n",
              "       '41', '33', '26', '15', '36', '11', '31', '37', '42', '25', '18',\n",
              "       '24', '39', '27', '21', '34', '10', '60', '13', '20', '22', '28',\n",
              "       '54', '40', '51', '56', '14', '17', '50', '44', '12', '46',\n",
              "       'not available', '16', '7', '52', '43', '48', '8', '49', '63',\n",
              "       '99'], dtype=object)"
            ]
          },
          "metadata": {
            "tags": []
          },
          "execution_count": 109
        }
      ]
    },
    {
      "cell_type": "code",
      "metadata": {
        "id": "t-WgVOwLTpKf",
        "colab": {
          "base_uri": "https://localhost:8080/"
        },
        "outputId": "a65f1222-4cb3-4c09-a159-73ecc0877c85"
      },
      "source": [
        "#Solution\n",
        "pima['Insulin'].unique()\n",
        "#contains 0, nan, not available values --> missing"
      ],
      "execution_count": null,
      "outputs": [
        {
          "output_type": "execute_result",
          "data": {
            "text/plain": [
              "array(['0', '94', '168', '88', '543', nan, '846', '175', '230', '83',\n",
              "       '96', '235', '146', '115', '140', '110', '245', '54', '192', '207',\n",
              "       '70', '240', '82', '36', '23', '300', '342', '304', '142', '128',\n",
              "       '38', '100', '90', '270', '71', '125', '176', '48', '64', '228',\n",
              "       '76', '220', '40', '152', '18', '135', '495', '37', '51', '99',\n",
              "       '145', '225', '49', '50', '92', '325', '63', '284', '119', '204',\n",
              "       '155', '485', '53', '114', '105', '285', '156', '78', '130', '55',\n",
              "       'not available', '58', '160', '210', '318', '44', '190', '280',\n",
              "       '87', '271', '129', '120', '478', '56', '32', '744', '370', '45',\n",
              "       '194', '680', '402', '258', '375', '150', '67', '57', '116', '278',\n",
              "       '122', '545', '75', '74', '182', '360', '215', '184', '42', '132',\n",
              "       '148', '180', '205', '85', '231', '29', '68', '52', '255', '171',\n",
              "       '73', '108', '43', '167', '249', '293', '66', '465', '89', '158',\n",
              "       '84', '72', '59', '81', '196', '415', '275', '165', '579', '310',\n",
              "       '61', '474', '170', '277', '60', '14', '95', '237', '191', '328',\n",
              "       '250', '480', '265', '193', '79', '86', '326', '188', '106', '65',\n",
              "       '166', '274', '77', '126', '330', '600', '185', '25', '41', '272',\n",
              "       '321', '144', '15', '183', '91', '46', '440', '159', '540', '200',\n",
              "       '335', '387', '22', '291', '392', '178', '127', '510', '16', '112'],\n",
              "      dtype=object)"
            ]
          },
          "metadata": {
            "tags": []
          },
          "execution_count": 110
        }
      ]
    },
    {
      "cell_type": "code",
      "metadata": {
        "id": "STyG7AG5Ts95",
        "colab": {
          "base_uri": "https://localhost:8080/"
        },
        "outputId": "2122cec6-ae34-43ed-d168-e70d482dcec8"
      },
      "source": [
        "pima['BloodPressure'].unique()\n",
        "#contains '0', which is also a missing value"
      ],
      "execution_count": null,
      "outputs": [
        {
          "output_type": "execute_result",
          "data": {
            "text/plain": [
              "array([ 72.,  66.,  64.,  40.,  74.,  50.,   0.,  70.,  96.,  92.,  80.,\n",
              "        60.,  nan,  84.,  30.,  88.,  90.,  94.,  76.,  82.,  75.,  58.,\n",
              "        78.,  68., 110.,  56.,  62.,  85.,  86.,  48.,  44.,  65., 108.,\n",
              "        55., 122.,  54.,  52.,  98., 104.,  95.,  46., 102., 100.,  61.,\n",
              "        24.,  38., 106., 114.])"
            ]
          },
          "metadata": {
            "tags": []
          },
          "execution_count": 111
        }
      ]
    },
    {
      "cell_type": "code",
      "metadata": {
        "colab": {
          "base_uri": "https://localhost:8080/"
        },
        "id": "88rA0pg2cgLv",
        "outputId": "caf3732f-2b01-414f-8c37-8a5bb7a04c99"
      },
      "source": [
        "pima.apply(lambda col: (col.unique()))\n"
      ],
      "execution_count": null,
      "outputs": [
        {
          "output_type": "execute_result",
          "data": {
            "text/plain": [
              "Pregnancies                 [6, 1, 8, 0, 5, 3, 10, 2, 4, 7, 9, 11, 13, 15,...\n",
              "Glucose                     [148, 85, 183, 89, 137, 116, 78, 115, 197, 125...\n",
              "BloodPressure               [72.0, 66.0, 64.0, 40.0, 74.0, 50.0, 0.0, 70.0...\n",
              "SkinThickness               [35, 29, 0, 23, 32, 45, nan, 19, 47, 38, 30, 4...\n",
              "Insulin                     [0, 94, 168, 88, 543, nan, 846, 175, 230, 83, ...\n",
              "BMI                         [33.6, 26.6, 23.3, 28.1, 43.1, 25.6, 31.0, 35....\n",
              "DiabetesPedigreeFunction    [0.627, 0.35100000000000003, 0.672, 0.16699999...\n",
              "Age                         [50, 31, 32, 21, 33, 30, 26, 29, 53, 54, 34, 5...\n",
              "Outcome                                                                [1, 0]\n",
              "Age_group                   ['41-50', '31-40', '21-30', '51-60', '61-70', ...\n",
              "dtype: object"
            ]
          },
          "metadata": {
            "tags": []
          },
          "execution_count": 153
        }
      ]
    },
    {
      "cell_type": "markdown",
      "metadata": {
        "id": "cyR7iVgnWJtL"
      },
      "source": [
        "### 15. Count how many values of 0 (numeric) and '0' (character) are in each column. "
      ]
    },
    {
      "cell_type": "code",
      "metadata": {
        "id": "Mbq6i51NV0If",
        "colab": {
          "base_uri": "https://localhost:8080/"
        },
        "outputId": "8579393b-6994-4e3b-8930-9edcc4abc57f"
      },
      "source": [
        "pima[pima == 0].count()\n",
        "#0 for pregancies and outcome makes sense, for the others it is missing"
      ],
      "execution_count": null,
      "outputs": [
        {
          "output_type": "execute_result",
          "data": {
            "text/plain": [
              "Pregnancies                 111\n",
              "Glucose                       5\n",
              "BloodPressure                31\n",
              "SkinThickness                 0\n",
              "Insulin                       0\n",
              "BMI                          11\n",
              "DiabetesPedigreeFunction      0\n",
              "Age                           0\n",
              "Outcome                     500\n",
              "Age_group                     0\n",
              "dtype: int64"
            ]
          },
          "metadata": {
            "tags": []
          },
          "execution_count": 176
        }
      ]
    },
    {
      "cell_type": "code",
      "metadata": {
        "id": "1zA5YnvSWaZS",
        "colab": {
          "base_uri": "https://localhost:8080/"
        },
        "outputId": "a471d3fa-9d55-4375-b742-a22f26b8979c"
      },
      "source": [
        "pima[pima == '0'].count()"
      ],
      "execution_count": null,
      "outputs": [
        {
          "output_type": "execute_result",
          "data": {
            "text/plain": [
              "Pregnancies                   0\n",
              "Glucose                       0\n",
              "BloodPressure                 0\n",
              "SkinThickness               191\n",
              "Insulin                     333\n",
              "BMI                           0\n",
              "DiabetesPedigreeFunction      0\n",
              "Age                           0\n",
              "Outcome                       0\n",
              "Age_group                     0\n",
              "dtype: int64"
            ]
          },
          "metadata": {
            "tags": []
          },
          "execution_count": 170
        }
      ]
    },
    {
      "cell_type": "code",
      "metadata": {
        "id": "Z45HCFwEZUW-",
        "colab": {
          "base_uri": "https://localhost:8080/"
        },
        "outputId": "8fd840ca-761b-48d2-ddaa-85e888c4a211"
      },
      "source": [
        "pima[pima == 'not available'].count()"
      ],
      "execution_count": null,
      "outputs": [
        {
          "output_type": "execute_result",
          "data": {
            "text/plain": [
              "Pregnancies                 0\n",
              "Glucose                     0\n",
              "BloodPressure               0\n",
              "SkinThickness               4\n",
              "Insulin                     6\n",
              "BMI                         0\n",
              "DiabetesPedigreeFunction    0\n",
              "Age                         0\n",
              "Outcome                     0\n",
              "Age_group                   0\n",
              "dtype: int64"
            ]
          },
          "metadata": {
            "tags": []
          },
          "execution_count": 114
        }
      ]
    },
    {
      "cell_type": "markdown",
      "metadata": {
        "id": "kj2OflSWU0lo"
      },
      "source": [
        "### 16. Create a copy of pima and make sure that all missing values are encoded as np.nan in it. \n",
        "\n",
        "Hint: Check out the Pandas replace()-function."
      ]
    },
    {
      "cell_type": "code",
      "metadata": {
        "id": "h4JzowDZXWYE"
      },
      "source": [
        "pima_clean = pima.copy()"
      ],
      "execution_count": null,
      "outputs": []
    },
    {
      "cell_type": "code",
      "metadata": {
        "id": "Rqqr9Rd3ljhO"
      },
      "source": [
        "pima_clean['Glucose'].replace(0, np.nan, inplace=True)\n",
        "pima_clean['BloodPressure'].replace(0, np.nan, inplace=True)\n",
        "pima_clean['SkinThickness'].replace([0, 'not available', '0'], np.nan, inplace=True)\n",
        "pima_clean['Insulin'].replace([0, 'not available', '0'], np.nan, inplace=True)"
      ],
      "execution_count": null,
      "outputs": []
    },
    {
      "cell_type": "code",
      "metadata": {
        "id": "FFjNJfasdZuN",
        "colab": {
          "base_uri": "https://localhost:8080/"
        },
        "outputId": "79921769-907b-41aa-cb78-bd52e9915aed"
      },
      "source": [
        "pima.isna().sum()"
      ],
      "execution_count": null,
      "outputs": [
        {
          "output_type": "execute_result",
          "data": {
            "text/plain": [
              "Pregnancies                  0\n",
              "Glucose                      0\n",
              "BloodPressure                4\n",
              "SkinThickness               32\n",
              "Insulin                     35\n",
              "BMI                          0\n",
              "DiabetesPedigreeFunction     0\n",
              "Age                          0\n",
              "Outcome                      0\n",
              "Age_group                    0\n",
              "dtype: int64"
            ]
          },
          "metadata": {
            "tags": []
          },
          "execution_count": 173
        }
      ]
    },
    {
      "cell_type": "code",
      "metadata": {
        "id": "MmATcalvZIyZ",
        "colab": {
          "base_uri": "https://localhost:8080/"
        },
        "outputId": "53b9a6f0-6edb-48dd-c85b-fe534a9b56b4"
      },
      "source": [
        "pima_clean.isna().sum()"
      ],
      "execution_count": null,
      "outputs": [
        {
          "output_type": "execute_result",
          "data": {
            "text/plain": [
              "Pregnancies                   0\n",
              "Glucose                       5\n",
              "BloodPressure                35\n",
              "SkinThickness               227\n",
              "Insulin                     374\n",
              "BMI                           0\n",
              "DiabetesPedigreeFunction      0\n",
              "Age                           0\n",
              "Outcome                       0\n",
              "Age_group                     0\n",
              "dtype: int64"
            ]
          },
          "metadata": {
            "tags": []
          },
          "execution_count": 174
        }
      ]
    },
    {
      "cell_type": "markdown",
      "metadata": {
        "id": "kUblwmjaujrS"
      },
      "source": [
        "### 17. How many rows have now 3 or more missing values?"
      ]
    },
    {
      "cell_type": "code",
      "metadata": {
        "id": "WzSwgtcFvKTI",
        "colab": {
          "base_uri": "https://localhost:8080/"
        },
        "outputId": "2422613e-2ec1-447a-9ad6-db6325ebccd7"
      },
      "source": [
        "#Solution\n",
        "pima_clean.isna().sum(axis = 1).value_counts()\n",
        "#33 rows have 3 missing values"
      ],
      "execution_count": null,
      "outputs": [
        {
          "output_type": "execute_result",
          "data": {
            "text/plain": [
              "0    393\n",
              "2    200\n",
              "1    142\n",
              "3     33\n",
              "dtype: int64"
            ]
          },
          "metadata": {
            "tags": []
          },
          "execution_count": 119
        }
      ]
    },
    {
      "cell_type": "markdown",
      "metadata": {
        "id": "ILWnJtwKXWdY"
      },
      "source": [
        "### 18. Exclude rows with missing values\n",
        "Exclude those rows with 3 or more missing values (Hint: Requires minimum 8 values)"
      ]
    },
    {
      "cell_type": "code",
      "metadata": {
        "id": "66uqNaLfxvKq",
        "colab": {
          "base_uri": "https://localhost:8080/"
        },
        "outputId": "c489b538-7eec-47c0-bdc2-e6f6cdc6c45b"
      },
      "source": [
        "#Solution\n",
        "pima_clean.dropna(thresh = len(pima_clean.columns)-2, inplace=True)\n",
        "pima_clean.isna().sum(axis = 1).value_counts()"
      ],
      "execution_count": null,
      "outputs": [
        {
          "output_type": "execute_result",
          "data": {
            "text/plain": [
              "0    393\n",
              "2    200\n",
              "1    142\n",
              "dtype: int64"
            ]
          },
          "metadata": {
            "tags": []
          },
          "execution_count": 178
        }
      ]
    },
    {
      "cell_type": "markdown",
      "metadata": {
        "id": "mEZpHWJER-tX"
      },
      "source": [
        "### 19. Save and export\n",
        "And last but not least, save your pre-processed dataset and export it. We will need it tomorrow.  \n",
        "\n",
        "\n",
        "files.download('sample.csv')"
      ]
    },
    {
      "cell_type": "code",
      "metadata": {
        "id": "5qj23QG_SLb_"
      },
      "source": [
        "#Solution\n",
        "pima_clean.to_csv('pima_clean.csv', index=False)"
      ],
      "execution_count": null,
      "outputs": []
    },
    {
      "cell_type": "code",
      "metadata": {
        "id": "cUVAY0Sh5EdS",
        "colab": {
          "base_uri": "https://localhost:8080/",
          "height": 17
        },
        "outputId": "2f076eb4-5427-419c-efcf-df7f4fe4e601"
      },
      "source": [
        "files.download('pima_clean.csv')"
      ],
      "execution_count": null,
      "outputs": [
        {
          "output_type": "display_data",
          "data": {
            "application/javascript": [
              "\n",
              "    async function download(id, filename, size) {\n",
              "      if (!google.colab.kernel.accessAllowed) {\n",
              "        return;\n",
              "      }\n",
              "      const div = document.createElement('div');\n",
              "      const label = document.createElement('label');\n",
              "      label.textContent = `Downloading \"${filename}\": `;\n",
              "      div.appendChild(label);\n",
              "      const progress = document.createElement('progress');\n",
              "      progress.max = size;\n",
              "      div.appendChild(progress);\n",
              "      document.body.appendChild(div);\n",
              "\n",
              "      const buffers = [];\n",
              "      let downloaded = 0;\n",
              "\n",
              "      const channel = await google.colab.kernel.comms.open(id);\n",
              "      // Send a message to notify the kernel that we're ready.\n",
              "      channel.send({})\n",
              "\n",
              "      for await (const message of channel.messages) {\n",
              "        // Send a message to notify the kernel that we're ready.\n",
              "        channel.send({})\n",
              "        if (message.buffers) {\n",
              "          for (const buffer of message.buffers) {\n",
              "            buffers.push(buffer);\n",
              "            downloaded += buffer.byteLength;\n",
              "            progress.value = downloaded;\n",
              "          }\n",
              "        }\n",
              "      }\n",
              "      const blob = new Blob(buffers, {type: 'application/binary'});\n",
              "      const a = document.createElement('a');\n",
              "      a.href = window.URL.createObjectURL(blob);\n",
              "      a.download = filename;\n",
              "      div.appendChild(a);\n",
              "      a.click();\n",
              "      div.remove();\n",
              "    }\n",
              "  "
            ],
            "text/plain": [
              "<IPython.core.display.Javascript object>"
            ]
          },
          "metadata": {
            "tags": []
          }
        },
        {
          "output_type": "display_data",
          "data": {
            "application/javascript": [
              "download(\"download_9c6372dc-1699-4be7-8025-6738d909b68f\", \"pima_clean.csv\", 31671)"
            ],
            "text/plain": [
              "<IPython.core.display.Javascript object>"
            ]
          },
          "metadata": {
            "tags": []
          }
        }
      ]
    },
    {
      "cell_type": "markdown",
      "metadata": {
        "id": "hTduAZLbXkcD"
      },
      "source": [
        "That's it for today! Please let us know if you have any questions. "
      ]
    }
  ]
}